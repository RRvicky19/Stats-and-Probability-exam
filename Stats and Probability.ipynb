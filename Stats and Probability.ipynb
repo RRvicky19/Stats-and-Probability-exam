{
 "cells": [
  {
   "cell_type": "markdown",
   "id": "bafe316a",
   "metadata": {},
   "source": [
    "<h1>1</h1>"
   ]
  },
  {
   "cell_type": "markdown",
   "id": "430fb64d",
   "metadata": {},
   "source": [
    "<h4>There are 13 diamond playing cards ina deck of 52 cards<br>\n",
    "\n",
    "Let P(A) be the likelihood of getting a diamond card in the first draw.\n",
    "\n",
    "P(A) = 13/52 = 0.25\n",
    "\n",
    "Let P(B) be the chance of getting a heart card in the 2nd draw.\n",
    "\n",
    "P(B) = 13/51  =0.254\n",
    "\n",
    "Let P(c) be the probability of getting a spade card in the 1/3 drawn.\n",
    "\n",
    "P(C)=13/50=0.26 </h4>"
   ]
  },
  {
   "cell_type": "markdown",
   "id": "26f50e56",
   "metadata": {},
   "source": [
    "<h1>2</h1>"
   ]
  },
  {
   "cell_type": "markdown",
   "id": "5bf47eb3",
   "metadata": {},
   "source": [
    "p(A) = chance of liking motion films = 42/100\n",
    "p(C) = chance of liking comedy films = 54/100\n",
    "p(D) = chance of liking drama films = 36/100\n",
    "p(H) = chance of liking horror films = 12/100\n",
    "p(a) = chance of either action or drama\n",
    "p(b) = chance of both comedy or horror "
   ]
  },
  {
   "cell_type": "code",
   "execution_count": 15,
   "id": "9490fdcc",
   "metadata": {},
   "outputs": [
    {
     "name": "stdout",
     "output_type": "stream",
     "text": [
      "probability of both action or drama 0.78\n",
      "probability of both comedy or horror 0.66\n"
     ]
    }
   ],
   "source": [
    "pA = 42/100\n",
    "pC = 54/100\n",
    "pD = 36/100\n",
    "pH = 12/100\n",
    "print( \"probability of both action or drama\",pA + pD) \n",
    "print(\"probability of both comedy or horror\",pC + pH)"
   ]
  },
  {
   "cell_type": "markdown",
   "id": "26c3ccc6",
   "metadata": {},
   "source": [
    "<h1>3</h1>"
   ]
  },
  {
   "cell_type": "markdown",
   "id": "ee0cb559",
   "metadata": {},
   "source": [
    "Bag A has 3 red and 5 black balls.\n",
    "\n",
    "Bag B has 4 white and 7 black balls.\n",
    "\n",
    "1/2 = p(A) = p(B)\n",
    "\n",
    "p(B/A) = 5/8 chance of a black ball from bag A\n",
    "\n",
    "p(B/B) = 7/11 \n",
    "\n",
    "P(B/B) = chance of getting a black ball from bag b\n",
    "\n",
    "        = (p(A)*p(B/A)+p(B)*p(B/B)) = (p(B)*p(B/B))\n",
    "        = (1/2 * 7/11) / (1/2 * 5/8 + 1/2 * 5/8) \n",
    "        = (7/22) / (5/8 + 5/16) \n",
    "        = 28/55 \n",
    "        = 0.509"
   ]
  },
  {
   "cell_type": "markdown",
   "id": "5c7af59f",
   "metadata": {},
   "source": [
    "<h1> 4 </h1>"
   ]
  },
  {
   "cell_type": "markdown",
   "id": "b081db7c",
   "metadata": {},
   "source": [
    "According to the Poisson distribution\n",
    "a. Receiving ten applications in less than one minute\n",
    "\n",
    "   λ = 450/60\n",
    "   λ = 15/2 , x = 10\n",
    "    \n",
    "                  e**(-15/2) . (15/2)**10\n",
    "     P (X = x) =  -----------------------  = 0.0858\n",
    "                           10!\n",
    "b. In less than two minutes, I received at least 17 applications.\n",
    "\n",
    "           e**(-15/2) . (15/2)**17\n",
    "P(X = x) = --------------------------  = 0.6321\n",
    "                     17!"
   ]
  },
  {
   "cell_type": "markdown",
   "id": "c1cb4f2c",
   "metadata": {},
   "source": [
    "<h1>6</h1>"
   ]
  },
  {
   "cell_type": "markdown",
   "id": "5d06bb64",
   "metadata": {},
   "source": [
    "z = (x-µ) / σ\n",
    "\n",
    "0.675 = (x-350870) / 12405\n",
    "\n",
    "x = 350870 + (0.675 * 12405)\n",
    "\n",
    "x = 359237.045\n",
    "\n",
    "359237.045 is the 75th percentile."
   ]
  },
  {
   "cell_type": "markdown",
   "id": "7a12d6d6",
   "metadata": {},
   "source": [
    "<h1>7</h1>"
   ]
  },
  {
   "cell_type": "code",
   "execution_count": 22,
   "id": "20decccd",
   "metadata": {},
   "outputs": [
    {
     "name": "stdout",
     "output_type": "stream",
     "text": [
      "F-STATISTIC is  : 0.9921235138705414\n"
     ]
    }
   ],
   "source": [
    "import numpy as np\n",
    "Union_City=[44,21,36,34,77,32,29,39,92,67,45,37]\n",
    "Mountain_View=[47,81,41,79,38,20,33,83,41,40,69,36]\n",
    "x = np.array(Union_City)\n",
    "y = np.array(Mountain_View)\n",
    "F = np.var(x, ddof=1)/np.var(y, ddof=1)\n",
    "print(\"F-STATISTIC is  :\",F)"
   ]
  },
  {
   "cell_type": "markdown",
   "id": "adb613a5",
   "metadata": {},
   "source": [
    "<h1>9</h1>"
   ]
  },
  {
   "cell_type": "code",
   "execution_count": 17,
   "id": "e8ae0675",
   "metadata": {},
   "outputs": [
    {
     "name": "stdout",
     "output_type": "stream",
     "text": [
      "probability 0.040177141568228006\n"
     ]
    }
   ],
   "source": [
    "from scipy.stats import poisson\n",
    "print(\"probability\",poisson.pmf(k=80,mu=76))"
   ]
  }
 ],
 "metadata": {
  "kernelspec": {
   "display_name": "Python 3 (ipykernel)",
   "language": "python",
   "name": "python3"
  },
  "language_info": {
   "codemirror_mode": {
    "name": "ipython",
    "version": 3
   },
   "file_extension": ".py",
   "mimetype": "text/x-python",
   "name": "python",
   "nbconvert_exporter": "python",
   "pygments_lexer": "ipython3",
   "version": "3.9.7"
  }
 },
 "nbformat": 4,
 "nbformat_minor": 5
}
